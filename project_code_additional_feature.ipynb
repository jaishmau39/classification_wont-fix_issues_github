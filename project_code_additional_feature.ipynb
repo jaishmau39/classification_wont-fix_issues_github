{
 "cells": [
  {
   "cell_type": "code",
   "execution_count": 1,
   "metadata": {},
   "outputs": [],
   "source": [
    "import pandas as pd\n",
    "import numpy as np\n",
    "import matplotlib.pyplot as plt\n",
    "\n",
    "import re\n",
    "\n",
    "from sklearn.model_selection import train_test_split\n",
    "from sklearn.model_selection import cross_val_score\n",
    "\n",
    "from sklearn.feature_extraction.text import TfidfVectorizer\n",
    "from sklearn.ensemble import RandomForestClassifier\n",
    "from sklearn.naive_bayes import MultinomialNB\n",
    "\n",
    "from sklearn.metrics import accuracy_score\n",
    "from sklearn.metrics import confusion_matrix\n",
    "from sklearn.metrics import classification_report\n",
    "from sklearn.metrics import confusion_matrix\n",
    "\n",
    "from sklearn.model_selection import KFold\n",
    "from sklearn.model_selection import cross_val_score\n"
   ]
  },
  {
   "cell_type": "code",
   "execution_count": 2,
   "metadata": {},
   "outputs": [],
   "source": [
    "df_wontfix=pd.read_csv(\"C:/Users/jaish/code/classification_wont-fix_issues_github/Dataset/wontfix-issues.csv\")\n",
    "df_non_wontfix=pd.read_csv(\"C:/Users/jaish/code/classification_wont-fix_issues_github/Dataset/non-wontfix-issues.csv\")"
   ]
  },
  {
   "cell_type": "code",
   "execution_count": 3,
   "metadata": {},
   "outputs": [],
   "source": [
    "df_wontfix_temp = df_wontfix.drop(columns=['nCommentsT','nActorsT','issue_labels_additional_to_wontfix','date_first_comment','issue_closing_date','date_last_comment','timeToCloseIssue','timeToDiscussIssue','AllCommentsIssue','meanCommentSize'])"
   ]
  },
  {
   "cell_type": "code",
   "execution_count": 4,
   "metadata": {},
   "outputs": [],
   "source": [
    "df_wontfix_temp['issue_labels'] = 'wontfix'"
   ]
  },
  {
   "cell_type": "code",
   "execution_count": 5,
   "metadata": {},
   "outputs": [],
   "source": [
    "df_non_wontfix_temp = df_non_wontfix.copy()"
   ]
  },
  {
   "cell_type": "code",
   "execution_count": 6,
   "metadata": {},
   "outputs": [],
   "source": [
    "df_non_wontfix_temp['issue_labels'] = 'non wontfix'"
   ]
  },
  {
   "cell_type": "code",
   "execution_count": 7,
   "metadata": {},
   "outputs": [
    {
     "data": {
      "text/html": [
       "<div>\n",
       "<style scoped>\n",
       "    .dataframe tbody tr th:only-of-type {\n",
       "        vertical-align: middle;\n",
       "    }\n",
       "\n",
       "    .dataframe tbody tr th {\n",
       "        vertical-align: top;\n",
       "    }\n",
       "\n",
       "    .dataframe thead th {\n",
       "        text-align: right;\n",
       "    }\n",
       "</style>\n",
       "<table border=\"1\" class=\"dataframe\">\n",
       "  <thead>\n",
       "    <tr style=\"text-align: right;\">\n",
       "      <th></th>\n",
       "      <th>project_name</th>\n",
       "      <th>project_url</th>\n",
       "      <th>project_language</th>\n",
       "      <th>issue_url</th>\n",
       "      <th>issue_labels</th>\n",
       "      <th>TitleIssue</th>\n",
       "      <th>DescriptionIssue</th>\n",
       "    </tr>\n",
       "  </thead>\n",
       "  <tbody>\n",
       "    <tr>\n",
       "      <th>0</th>\n",
       "      <td>fabiospampinato/vscode-todo-plus</td>\n",
       "      <td>https://github.com/fabiospampinato/vscode-todo...</td>\n",
       "      <td>C#</td>\n",
       "      <td>https://github.com/fabiospampinato/vscode-todo...</td>\n",
       "      <td>wontfix</td>\n",
       "      <td>improve \"Enter\" key &lt;U+00B7&gt; \"</td>\n",
       "      <td>When I press the \"enter\" key and th...</td>\n",
       "    </tr>\n",
       "    <tr>\n",
       "      <th>1</th>\n",
       "      <td>fabiospampinato/vscode-todo-plus</td>\n",
       "      <td>https://github.com/fabiospampinato/vscode-todo...</td>\n",
       "      <td>C#</td>\n",
       "      <td>https://github.com/fabiospampinato/vscode-todo...</td>\n",
       "      <td>wontfix</td>\n",
       "      <td>Syntax renders whitespace character as part of...</td>\n",
       "      <td>When using the setting  &lt;code&gt;edito...</td>\n",
       "    </tr>\n",
       "    <tr>\n",
       "      <th>2</th>\n",
       "      <td>fabiospampinato/vscode-todo-plus</td>\n",
       "      <td>https://github.com/fabiospampinato/vscode-todo...</td>\n",
       "      <td>C#</td>\n",
       "      <td>https://github.com/fabiospampinato/vscode-todo...</td>\n",
       "      <td>wontfix</td>\n",
       "      <td>Archive only if sub-tasks are completed &lt;U+00B...</td>\n",
       "      <td>When I press archive, I only want t...</td>\n",
       "    </tr>\n",
       "    <tr>\n",
       "      <th>3</th>\n",
       "      <td>fabiospampinato/vscode-todo-plus</td>\n",
       "      <td>https://github.com/fabiospampinato/vscode-todo...</td>\n",
       "      <td>C#</td>\n",
       "      <td>https://github.com/fabiospampinato/vscode-todo...</td>\n",
       "      <td>wontfix</td>\n",
       "      <td>[Feature Request] auto save when change todo s...</td>\n",
       "      <td>I thinks it's fair feature that whe...</td>\n",
       "    </tr>\n",
       "    <tr>\n",
       "      <th>4</th>\n",
       "      <td>fabiospampinato/vscode-todo-plus</td>\n",
       "      <td>https://github.com/fabiospampinato/vscode-todo...</td>\n",
       "      <td>C#</td>\n",
       "      <td>https://github.com/fabiospampinato/vscode-todo...</td>\n",
       "      <td>wontfix</td>\n",
       "      <td>Maintain the project structure (indentation) a...</td>\n",
       "      <td>&lt;strong&gt;AS IS&lt;/strong&gt;:  Given a to...</td>\n",
       "    </tr>\n",
       "    <tr>\n",
       "      <th>5</th>\n",
       "      <td>zzzprojects/GraphDiff</td>\n",
       "      <td>https://github.com/zzzprojects/GraphDiff</td>\n",
       "      <td>C#</td>\n",
       "      <td>https://github.com/zzzprojects/GraphDiff/issue...</td>\n",
       "      <td>wontfix</td>\n",
       "      <td>Null values in entity should not be passed to ...</td>\n",
       "      <td>In a distributed scenario we often ...</td>\n",
       "    </tr>\n",
       "    <tr>\n",
       "      <th>6</th>\n",
       "      <td>yysun/Git-Source-Control-Provider</td>\n",
       "      <td>https://github.com/yysun/Git-Source-Control-Pr...</td>\n",
       "      <td>C#</td>\n",
       "      <td>https://github.com/yysun/Git-Source-Control-Pr...</td>\n",
       "      <td>wontfix</td>\n",
       "      <td>Support Visual Studio 2008 Database Project  &lt;...</td>\n",
       "      <td>\"Database Projects\" in Visual Studi...</td>\n",
       "    </tr>\n",
       "    <tr>\n",
       "      <th>7</th>\n",
       "      <td>ilich/MvcReportViewer</td>\n",
       "      <td>https://github.com/ilich/MvcReportViewer</td>\n",
       "      <td>C#</td>\n",
       "      <td>https://github.com/ilich/MvcReportViewer/issue...</td>\n",
       "      <td>wontfix</td>\n",
       "      <td>Can I use this with ASP.net core2.0 projects &lt;...</td>\n",
       "      <td>Got a error saying that it was rest...</td>\n",
       "    </tr>\n",
       "    <tr>\n",
       "      <th>8</th>\n",
       "      <td>ilich/MvcReportViewer</td>\n",
       "      <td>https://github.com/ilich/MvcReportViewer</td>\n",
       "      <td>C#</td>\n",
       "      <td>https://github.com/ilich/MvcReportViewer/issue...</td>\n",
       "      <td>wontfix</td>\n",
       "      <td>MvcReportViewer Browser issue &lt;U+00B7&gt; \"</td>\n",
       "      <td>About MvcReportViewer supported Man...</td>\n",
       "    </tr>\n",
       "    <tr>\n",
       "      <th>9</th>\n",
       "      <td>ilich/MvcReportViewer</td>\n",
       "      <td>https://github.com/ilich/MvcReportViewer</td>\n",
       "      <td>C#</td>\n",
       "      <td>https://github.com/ilich/MvcReportViewer/issue...</td>\n",
       "      <td>wontfix</td>\n",
       "      <td>Scroll Bar issues in ie 11, works good in othe...</td>\n",
       "      <td>Scroll bar appears perfectly well i...</td>\n",
       "    </tr>\n",
       "  </tbody>\n",
       "</table>\n",
       "</div>"
      ],
      "text/plain": [
       "                        project_name  \\\n",
       "0   fabiospampinato/vscode-todo-plus   \n",
       "1   fabiospampinato/vscode-todo-plus   \n",
       "2   fabiospampinato/vscode-todo-plus   \n",
       "3   fabiospampinato/vscode-todo-plus   \n",
       "4   fabiospampinato/vscode-todo-plus   \n",
       "5              zzzprojects/GraphDiff   \n",
       "6  yysun/Git-Source-Control-Provider   \n",
       "7              ilich/MvcReportViewer   \n",
       "8              ilich/MvcReportViewer   \n",
       "9              ilich/MvcReportViewer   \n",
       "\n",
       "                                         project_url project_language  \\\n",
       "0  https://github.com/fabiospampinato/vscode-todo...               C#   \n",
       "1  https://github.com/fabiospampinato/vscode-todo...               C#   \n",
       "2  https://github.com/fabiospampinato/vscode-todo...               C#   \n",
       "3  https://github.com/fabiospampinato/vscode-todo...               C#   \n",
       "4  https://github.com/fabiospampinato/vscode-todo...               C#   \n",
       "5           https://github.com/zzzprojects/GraphDiff               C#   \n",
       "6  https://github.com/yysun/Git-Source-Control-Pr...               C#   \n",
       "7           https://github.com/ilich/MvcReportViewer               C#   \n",
       "8           https://github.com/ilich/MvcReportViewer               C#   \n",
       "9           https://github.com/ilich/MvcReportViewer               C#   \n",
       "\n",
       "                                           issue_url issue_labels  \\\n",
       "0  https://github.com/fabiospampinato/vscode-todo...      wontfix   \n",
       "1  https://github.com/fabiospampinato/vscode-todo...      wontfix   \n",
       "2  https://github.com/fabiospampinato/vscode-todo...      wontfix   \n",
       "3  https://github.com/fabiospampinato/vscode-todo...      wontfix   \n",
       "4  https://github.com/fabiospampinato/vscode-todo...      wontfix   \n",
       "5  https://github.com/zzzprojects/GraphDiff/issue...      wontfix   \n",
       "6  https://github.com/yysun/Git-Source-Control-Pr...      wontfix   \n",
       "7  https://github.com/ilich/MvcReportViewer/issue...      wontfix   \n",
       "8  https://github.com/ilich/MvcReportViewer/issue...      wontfix   \n",
       "9  https://github.com/ilich/MvcReportViewer/issue...      wontfix   \n",
       "\n",
       "                                          TitleIssue  \\\n",
       "0                     improve \"Enter\" key <U+00B7> \"   \n",
       "1  Syntax renders whitespace character as part of...   \n",
       "2  Archive only if sub-tasks are completed <U+00B...   \n",
       "3  [Feature Request] auto save when change todo s...   \n",
       "4  Maintain the project structure (indentation) a...   \n",
       "5  Null values in entity should not be passed to ...   \n",
       "6  Support Visual Studio 2008 Database Project  <...   \n",
       "7  Can I use this with ASP.net core2.0 projects <...   \n",
       "8           MvcReportViewer Browser issue <U+00B7> \"   \n",
       "9  Scroll Bar issues in ie 11, works good in othe...   \n",
       "\n",
       "                                    DescriptionIssue  \n",
       "0             When I press the \"enter\" key and th...  \n",
       "1             When using the setting  <code>edito...  \n",
       "2             When I press archive, I only want t...  \n",
       "3             I thinks it's fair feature that whe...  \n",
       "4             <strong>AS IS</strong>:  Given a to...  \n",
       "5             In a distributed scenario we often ...  \n",
       "6             \"Database Projects\" in Visual Studi...  \n",
       "7             Got a error saying that it was rest...  \n",
       "8             About MvcReportViewer supported Man...  \n",
       "9             Scroll bar appears perfectly well i...  "
      ]
     },
     "execution_count": 7,
     "metadata": {},
     "output_type": "execute_result"
    }
   ],
   "source": [
    "merged_temp = [df_wontfix_temp, df_non_wontfix_temp]\n",
    "df_final = pd.concat(merged_temp)\n",
    "df_final.head(10)"
   ]
  },
  {
   "cell_type": "code",
   "execution_count": 8,
   "metadata": {},
   "outputs": [],
   "source": [
    "def issue_number(i):\n",
    "  if i['issue_labels'] == 'non wontfix':\n",
    "    return 1\n",
    "  else :\n",
    "    return 0\n",
    "df_final['issue_number'] = df_final.apply(lambda i:issue_number(i), axis=1)"
   ]
  },
  {
   "cell_type": "code",
   "execution_count": 9,
   "metadata": {},
   "outputs": [
    {
     "data": {
      "text/plain": [
       "0       False\n",
       "1       False\n",
       "2       False\n",
       "3       False\n",
       "4       False\n",
       "        ...  \n",
       "4481    False\n",
       "4482    False\n",
       "4483     True\n",
       "4484    False\n",
       "4485     True\n",
       "Name: TitleIssue, Length: 6330, dtype: bool"
      ]
     },
     "execution_count": 9,
     "metadata": {},
     "output_type": "execute_result"
    }
   ],
   "source": [
    "df_final.TitleIssue.duplicated()"
   ]
  },
  {
   "cell_type": "code",
   "execution_count": 10,
   "metadata": {},
   "outputs": [],
   "source": [
    "# Dropping duplicate Issue Titles\n",
    "df_final.drop_duplicates(subset = ['TitleIssue'], inplace = True)"
   ]
  },
  {
   "cell_type": "code",
   "execution_count": 11,
   "metadata": {},
   "outputs": [
    {
     "name": "stdout",
     "output_type": "stream",
     "text": [
      "non wontfix    3966\n",
      "wontfix        1844\n",
      "Name: issue_labels, dtype: int64\n"
     ]
    }
   ],
   "source": [
    "COUNT = df_final['issue_labels'].value_counts().sort_index()\n",
    "print(COUNT)"
   ]
  },
  {
   "cell_type": "code",
   "execution_count": 12,
   "metadata": {},
   "outputs": [],
   "source": [
    "import matplotlib.pyplot as plotAxis"
   ]
  },
  {
   "cell_type": "code",
   "execution_count": 13,
   "metadata": {},
   "outputs": [
    {
     "data": {
      "image/png": "[encoded data removed]",
      "text/plain": [
       "<Figure size 432x288 with 1 Axes>"
      ]
     },
     "metadata": {},
     "output_type": "display_data"
    }
   ],
   "source": [
    "# Pie chart, where the slices will be ordered and plotted counter-clockwise:\n",
    "ACTIVITY_DICT = {0:'wontfix', 1:'Non-wontfix'}\n",
    "ACTIVITY_KEYS = list(ACTIVITY_DICT.keys())\n",
    "activities = list(ACTIVITY_DICT.values())\n",
    "area = [COUNT[1], COUNT[0]]\n",
    "explode = (0.1, 0)  # only \"explode\" the 2nd slice (i.e. 'Hogs')\n",
    "\n",
    "Figure1, Axes1 = plotAxis.subplots()\n",
    "Axes1.pie(area, labels=activities, explode = explode, autopct='%1.1f%%', startangle = 90, counterclock=False, shadow=False)\n",
    "Axes1.axis('equal')\n",
    "plotAxis.show()"
   ]
  },
  {
   "cell_type": "markdown",
   "metadata": {},
   "source": [
    "ADD NEW FEATURE"
   ]
  },
  {
   "cell_type": "code",
   "execution_count": 14,
   "metadata": {},
   "outputs": [],
   "source": [
    "import nltk\n",
    "from nltk.corpus import stopwords"
   ]
  },
  {
   "cell_type": "code",
   "execution_count": 15,
   "metadata": {},
   "outputs": [],
   "source": [
    "import re\n",
    "def remove_HTML(string):\n",
    "  tags = re.sub('<.*?>','',str(string))\n",
    "  return tags\n",
    "\n",
    "df_final['TitleIssue'] = df_final['TitleIssue'].apply(lambda x : remove_HTML(x))\n",
    "df_final['DescriptionIssue'] = df_final['DescriptionIssue'].apply(lambda x : remove_HTML(x))"
   ]
  },
  {
   "cell_type": "code",
   "execution_count": 16,
   "metadata": {},
   "outputs": [],
   "source": [
    "import nltk\n",
    "from nltk.sentiment.vader import SentimentIntensityAnalyzer"
   ]
  },
  {
   "cell_type": "code",
   "execution_count": 17,
   "metadata": {},
   "outputs": [
    {
     "name": "stderr",
     "output_type": "stream",
     "text": [
      "[nltk_data] Downloading package vader_lexicon to\n",
      "[nltk_data]     C:\\Users\\jaish\\AppData\\Roaming\\nltk_data...\n",
      "[nltk_data]   Package vader_lexicon is already up-to-date!\n"
     ]
    },
    {
     "data": {
      "text/plain": [
       "True"
      ]
     },
     "execution_count": 17,
     "metadata": {},
     "output_type": "execute_result"
    }
   ],
   "source": [
    "nltk.download('vader_lexicon')"
   ]
  },
  {
   "cell_type": "code",
   "execution_count": 18,
   "metadata": {},
   "outputs": [],
   "source": [
    "analyser = SentimentIntensityAnalyzer()"
   ]
  },
  {
   "cell_type": "code",
   "execution_count": 19,
   "metadata": {},
   "outputs": [],
   "source": [
    "from tqdm import tqdm"
   ]
  },
  {
   "cell_type": "code",
   "execution_count": 20,
   "metadata": {},
   "outputs": [
    {
     "name": "stderr",
     "output_type": "stream",
     "text": [
      "100%|██████████| 5810/5810 [00:17<00:00, 334.34it/s]\n"
     ]
    }
   ],
   "source": [
    "# Finding the positive, negative, neutral sentiments for the Description Issue \n",
    "neg = []\n",
    "pos = []\n",
    "neu = []\n",
    "compound = []\n",
    "\n",
    "for a in tqdm(df_final[\"DescriptionIssue\"]) :\n",
    "    b = analyser.polarity_scores(a)['neg']\n",
    "    c = analyser.polarity_scores(a)['pos']\n",
    "    d = analyser.polarity_scores(a)['neu']\n",
    "    e = analyser.polarity_scores(a)['compound']\n",
    "    neg.append(b)\n",
    "    pos.append(c)\n",
    "    neu.append(d)\n",
    "    compound.append(e)"
   ]
  },
  {
   "cell_type": "code",
   "execution_count": 21,
   "metadata": {},
   "outputs": [],
   "source": [
    "df_final[\"positive\"] = pos\n",
    "df_final[\"negative\"] = neg\n",
    "df_final[\"neutral\"] = neu\n",
    "df_final[\"compound\"] = compound"
   ]
  },
  {
   "cell_type": "code",
   "execution_count": 22,
   "metadata": {},
   "outputs": [
    {
     "data": {
      "text/html": [
       "<div>\n",
       "<style scoped>\n",
       "    .dataframe tbody tr th:only-of-type {\n",
       "        vertical-align: middle;\n",
       "    }\n",
       "\n",
       "    .dataframe tbody tr th {\n",
       "        vertical-align: top;\n",
       "    }\n",
       "\n",
       "    .dataframe thead th {\n",
       "        text-align: right;\n",
       "    }\n",
       "</style>\n",
       "<table border=\"1\" class=\"dataframe\">\n",
       "  <thead>\n",
       "    <tr style=\"text-align: right;\">\n",
       "      <th></th>\n",
       "      <th>project_name</th>\n",
       "      <th>project_url</th>\n",
       "      <th>project_language</th>\n",
       "      <th>issue_url</th>\n",
       "      <th>issue_labels</th>\n",
       "      <th>TitleIssue</th>\n",
       "      <th>DescriptionIssue</th>\n",
       "      <th>issue_number</th>\n",
       "      <th>positive</th>\n",
       "      <th>negative</th>\n",
       "      <th>neutral</th>\n",
       "      <th>compound</th>\n",
       "    </tr>\n",
       "  </thead>\n",
       "  <tbody>\n",
       "    <tr>\n",
       "      <th>0</th>\n",
       "      <td>fabiospampinato/vscode-todo-plus</td>\n",
       "      <td>https://github.com/fabiospampinato/vscode-todo...</td>\n",
       "      <td>C#</td>\n",
       "      <td>https://github.com/fabiospampinato/vscode-todo...</td>\n",
       "      <td>wontfix</td>\n",
       "      <td>improve \"Enter\" key  \"</td>\n",
       "      <td>When I press the \"enter\" key and th...</td>\n",
       "      <td>0</td>\n",
       "      <td>0.088</td>\n",
       "      <td>0.000</td>\n",
       "      <td>0.912</td>\n",
       "      <td>0.4404</td>\n",
       "    </tr>\n",
       "    <tr>\n",
       "      <th>1</th>\n",
       "      <td>fabiospampinato/vscode-todo-plus</td>\n",
       "      <td>https://github.com/fabiospampinato/vscode-todo...</td>\n",
       "      <td>C#</td>\n",
       "      <td>https://github.com/fabiospampinato/vscode-todo...</td>\n",
       "      <td>wontfix</td>\n",
       "      <td>Syntax renders whitespace character as part of...</td>\n",
       "      <td>When using the setting  editor.rend...</td>\n",
       "      <td>0</td>\n",
       "      <td>0.174</td>\n",
       "      <td>0.000</td>\n",
       "      <td>0.826</td>\n",
       "      <td>0.4215</td>\n",
       "    </tr>\n",
       "    <tr>\n",
       "      <th>2</th>\n",
       "      <td>fabiospampinato/vscode-todo-plus</td>\n",
       "      <td>https://github.com/fabiospampinato/vscode-todo...</td>\n",
       "      <td>C#</td>\n",
       "      <td>https://github.com/fabiospampinato/vscode-todo...</td>\n",
       "      <td>wontfix</td>\n",
       "      <td>Archive only if sub-tasks are completed  \"</td>\n",
       "      <td>When I press archive, I only want t...</td>\n",
       "      <td>0</td>\n",
       "      <td>0.058</td>\n",
       "      <td>0.041</td>\n",
       "      <td>0.901</td>\n",
       "      <td>-0.0258</td>\n",
       "    </tr>\n",
       "    <tr>\n",
       "      <th>3</th>\n",
       "      <td>fabiospampinato/vscode-todo-plus</td>\n",
       "      <td>https://github.com/fabiospampinato/vscode-todo...</td>\n",
       "      <td>C#</td>\n",
       "      <td>https://github.com/fabiospampinato/vscode-todo...</td>\n",
       "      <td>wontfix</td>\n",
       "      <td>[Feature Request] auto save when change todo s...</td>\n",
       "      <td>I thinks it's fair feature that whe...</td>\n",
       "      <td>0</td>\n",
       "      <td>0.398</td>\n",
       "      <td>0.000</td>\n",
       "      <td>0.602</td>\n",
       "      <td>0.8360</td>\n",
       "    </tr>\n",
       "    <tr>\n",
       "      <th>4</th>\n",
       "      <td>fabiospampinato/vscode-todo-plus</td>\n",
       "      <td>https://github.com/fabiospampinato/vscode-todo...</td>\n",
       "      <td>C#</td>\n",
       "      <td>https://github.com/fabiospampinato/vscode-todo...</td>\n",
       "      <td>wontfix</td>\n",
       "      <td>Maintain the project structure (indentation) a...</td>\n",
       "      <td>AS IS:  Given a todo structure wher...</td>\n",
       "      <td>0</td>\n",
       "      <td>0.055</td>\n",
       "      <td>0.018</td>\n",
       "      <td>0.927</td>\n",
       "      <td>0.7080</td>\n",
       "    </tr>\n",
       "    <tr>\n",
       "      <th>...</th>\n",
       "      <td>...</td>\n",
       "      <td>...</td>\n",
       "      <td>...</td>\n",
       "      <td>...</td>\n",
       "      <td>...</td>\n",
       "      <td>...</td>\n",
       "      <td>...</td>\n",
       "      <td>...</td>\n",
       "      <td>...</td>\n",
       "      <td>...</td>\n",
       "      <td>...</td>\n",
       "      <td>...</td>\n",
       "    </tr>\n",
       "    <tr>\n",
       "      <th>4479</th>\n",
       "      <td>nunit/nunit-vs-adapter</td>\n",
       "      <td>https://github.com/nunit/nunit-vs-adapter</td>\n",
       "      <td>C#</td>\n",
       "      <td>https://github.com/nunit/nunit-vs-adapter/issu...</td>\n",
       "      <td>non wontfix</td>\n",
       "      <td>Support Visual Studio vNext 15.0  · \"</td>\n",
       "      <td>No description provided.</td>\n",
       "      <td>1</td>\n",
       "      <td>0.000</td>\n",
       "      <td>0.524</td>\n",
       "      <td>0.476</td>\n",
       "      <td>-0.2960</td>\n",
       "    </tr>\n",
       "    <tr>\n",
       "      <th>4480</th>\n",
       "      <td>nunit/nunit-vs-adapter</td>\n",
       "      <td>https://github.com/nunit/nunit-vs-adapter</td>\n",
       "      <td>C#</td>\n",
       "      <td>https://github.com/nunit/nunit-vs-adapter/issu...</td>\n",
       "      <td>non wontfix</td>\n",
       "      <td>Adapter should not try to discover tests if th...</td>\n",
       "      <td>The adapter uses NUnit 2.6.3,...</td>\n",
       "      <td>1</td>\n",
       "      <td>0.000</td>\n",
       "      <td>0.000</td>\n",
       "      <td>1.000</td>\n",
       "      <td>0.0000</td>\n",
       "    </tr>\n",
       "    <tr>\n",
       "      <th>4481</th>\n",
       "      <td>nunit/nunit-vs-adapter</td>\n",
       "      <td>https://github.com/nunit/nunit-vs-adapter</td>\n",
       "      <td>C#</td>\n",
       "      <td>https://github.com/nunit/nunit-vs-adapter/issu...</td>\n",
       "      <td>non wontfix</td>\n",
       "      <td>Feature request : enable diagnostic logging · \"</td>\n",
       "      <td>Some of the tests have been hanging on the bu...</td>\n",
       "      <td>1</td>\n",
       "      <td>0.059</td>\n",
       "      <td>0.019</td>\n",
       "      <td>0.922</td>\n",
       "      <td>0.6908</td>\n",
       "    </tr>\n",
       "    <tr>\n",
       "      <th>4482</th>\n",
       "      <td>nunit/nunit-vs-adapter</td>\n",
       "      <td>https://github.com/nunit/nunit-vs-adapter</td>\n",
       "      <td>C#</td>\n",
       "      <td>https://github.com/nunit/nunit-vs-adapter/issu...</td>\n",
       "      <td>non wontfix</td>\n",
       "      <td>Test Adapter does not find addins · \"</td>\n",
       "      <td>https://groups.google.com/forum/#!topic/nunit...</td>\n",
       "      <td>1</td>\n",
       "      <td>0.059</td>\n",
       "      <td>0.026</td>\n",
       "      <td>0.915</td>\n",
       "      <td>0.4035</td>\n",
       "    </tr>\n",
       "    <tr>\n",
       "      <th>4484</th>\n",
       "      <td>nunit/nunit-vs-adapter</td>\n",
       "      <td>https://github.com/nunit/nunit-vs-adapter</td>\n",
       "      <td>C#</td>\n",
       "      <td>https://github.com/nunit/nunit-vs-adapter/issu...</td>\n",
       "      <td>non wontfix</td>\n",
       "      <td>Test Results · \"</td>\n",
       "      <td>Not only I need this.  See https://visualstudi...</td>\n",
       "      <td>1</td>\n",
       "      <td>0.000</td>\n",
       "      <td>0.000</td>\n",
       "      <td>1.000</td>\n",
       "      <td>0.0000</td>\n",
       "    </tr>\n",
       "  </tbody>\n",
       "</table>\n",
       "<p>5810 rows × 12 columns</p>\n",
       "</div>"
      ],
      "text/plain": [
       "                          project_name  \\\n",
       "0     fabiospampinato/vscode-todo-plus   \n",
       "1     fabiospampinato/vscode-todo-plus   \n",
       "2     fabiospampinato/vscode-todo-plus   \n",
       "3     fabiospampinato/vscode-todo-plus   \n",
       "4     fabiospampinato/vscode-todo-plus   \n",
       "...                                ...   \n",
       "4479            nunit/nunit-vs-adapter   \n",
       "4480            nunit/nunit-vs-adapter   \n",
       "4481            nunit/nunit-vs-adapter   \n",
       "4482            nunit/nunit-vs-adapter   \n",
       "4484            nunit/nunit-vs-adapter   \n",
       "\n",
       "                                            project_url project_language  \\\n",
       "0     https://github.com/fabiospampinato/vscode-todo...               C#   \n",
       "1     https://github.com/fabiospampinato/vscode-todo...               C#   \n",
       "2     https://github.com/fabiospampinato/vscode-todo...               C#   \n",
       "3     https://github.com/fabiospampinato/vscode-todo...               C#   \n",
       "4     https://github.com/fabiospampinato/vscode-todo...               C#   \n",
       "...                                                 ...              ...   \n",
       "4479          https://github.com/nunit/nunit-vs-adapter               C#   \n",
       "4480          https://github.com/nunit/nunit-vs-adapter               C#   \n",
       "4481          https://github.com/nunit/nunit-vs-adapter               C#   \n",
       "4482          https://github.com/nunit/nunit-vs-adapter               C#   \n",
       "4484          https://github.com/nunit/nunit-vs-adapter               C#   \n",
       "\n",
       "                                              issue_url issue_labels  \\\n",
       "0     https://github.com/fabiospampinato/vscode-todo...      wontfix   \n",
       "1     https://github.com/fabiospampinato/vscode-todo...      wontfix   \n",
       "2     https://github.com/fabiospampinato/vscode-todo...      wontfix   \n",
       "3     https://github.com/fabiospampinato/vscode-todo...      wontfix   \n",
       "4     https://github.com/fabiospampinato/vscode-todo...      wontfix   \n",
       "...                                                 ...          ...   \n",
       "4479  https://github.com/nunit/nunit-vs-adapter/issu...  non wontfix   \n",
       "4480  https://github.com/nunit/nunit-vs-adapter/issu...  non wontfix   \n",
       "4481  https://github.com/nunit/nunit-vs-adapter/issu...  non wontfix   \n",
       "4482  https://github.com/nunit/nunit-vs-adapter/issu...  non wontfix   \n",
       "4484  https://github.com/nunit/nunit-vs-adapter/issu...  non wontfix   \n",
       "\n",
       "                                             TitleIssue  \\\n",
       "0                                improve \"Enter\" key  \"   \n",
       "1     Syntax renders whitespace character as part of...   \n",
       "2            Archive only if sub-tasks are completed  \"   \n",
       "3     [Feature Request] auto save when change todo s...   \n",
       "4     Maintain the project structure (indentation) a...   \n",
       "...                                                 ...   \n",
       "4479              Support Visual Studio vNext 15.0  · \"   \n",
       "4480  Adapter should not try to discover tests if th...   \n",
       "4481    Feature request : enable diagnostic logging · \"   \n",
       "4482              Test Adapter does not find addins · \"   \n",
       "4484                                   Test Results · \"   \n",
       "\n",
       "                                       DescriptionIssue  issue_number  \\\n",
       "0                When I press the \"enter\" key and th...             0   \n",
       "1                When using the setting  editor.rend...             0   \n",
       "2                When I press archive, I only want t...             0   \n",
       "3                I thinks it's fair feature that whe...             0   \n",
       "4                AS IS:  Given a todo structure wher...             0   \n",
       "...                                                 ...           ...   \n",
       "4479                No description provided.                        1   \n",
       "4480                   The adapter uses NUnit 2.6.3,...             1   \n",
       "4481   Some of the tests have been hanging on the bu...             1   \n",
       "4482   https://groups.google.com/forum/#!topic/nunit...             1   \n",
       "4484  Not only I need this.  See https://visualstudi...             1   \n",
       "\n",
       "      positive  negative  neutral  compound  \n",
       "0        0.088     0.000    0.912    0.4404  \n",
       "1        0.174     0.000    0.826    0.4215  \n",
       "2        0.058     0.041    0.901   -0.0258  \n",
       "3        0.398     0.000    0.602    0.8360  \n",
       "4        0.055     0.018    0.927    0.7080  \n",
       "...        ...       ...      ...       ...  \n",
       "4479     0.000     0.524    0.476   -0.2960  \n",
       "4480     0.000     0.000    1.000    0.0000  \n",
       "4481     0.059     0.019    0.922    0.6908  \n",
       "4482     0.059     0.026    0.915    0.4035  \n",
       "4484     0.000     0.000    1.000    0.0000  \n",
       "\n",
       "[5810 rows x 12 columns]"
      ]
     },
     "execution_count": 22,
     "metadata": {},
     "output_type": "execute_result"
    }
   ],
   "source": [
    "df_final\n"
   ]
  },
  {
   "cell_type": "code",
   "execution_count": 23,
   "metadata": {},
   "outputs": [],
   "source": [
    "df_final_shuffled = df_final.sample(frac = 1)"
   ]
  },
  {
   "cell_type": "code",
   "execution_count": 24,
   "metadata": {},
   "outputs": [],
   "source": [
    "df_final_shuffled.dropna(axis = 0, inplace = True)\n"
   ]
  },
  {
   "cell_type": "code",
   "execution_count": 25,
   "metadata": {},
   "outputs": [
    {
     "data": {
      "text/plain": [
       "{0: 'wontfix', 1: 'non wontfix'}"
      ]
     },
     "execution_count": 25,
     "metadata": {},
     "output_type": "execute_result"
    }
   ],
   "source": [
    "temp_drop = df_final_shuffled[['issue_labels', 'issue_number']].drop_duplicates()\n",
    "final_class = dict(temp_drop[['issue_number', 'issue_labels']].values)\n",
    "final_class\n",
    "\n"
   ]
  },
  {
   "cell_type": "markdown",
   "metadata": {},
   "source": [
    "PREPROCESSING"
   ]
  },
  {
   "cell_type": "code",
   "execution_count": 26,
   "metadata": {},
   "outputs": [],
   "source": [
    "from nltk.tokenize import word_tokenize"
   ]
  },
  {
   "cell_type": "code",
   "execution_count": 27,
   "metadata": {},
   "outputs": [],
   "source": [
    "def tokenize_text(text_string):\n",
    "    return word_tokenize(text_string)\n",
    "\n",
    "df_final_shuffled['TitleIssue'] = df_final_shuffled['TitleIssue'].apply(lambda x : tokenize_text(x))\n",
    "df_final_shuffled['DescriptionIssue'] = df_final_shuffled['DescriptionIssue'].apply(lambda x : tokenize_text(x))"
   ]
  },
  {
   "cell_type": "code",
   "execution_count": 28,
   "metadata": {},
   "outputs": [],
   "source": [
    "#importing the Stemming function from nltk library\n",
    "from nltk.stem.porter import PorterStemmer\n",
    "\n",
    "#defining the object for stemming\n",
    "porter_stemmer = PorterStemmer()"
   ]
  },
  {
   "cell_type": "code",
   "execution_count": 29,
   "metadata": {},
   "outputs": [],
   "source": [
    "#defining a function for stemming\n",
    "def stemming(text):\n",
    "    stem_text = [porter_stemmer.stem(word) for word in text]\n",
    "    return stem_text"
   ]
  },
  {
   "cell_type": "code",
   "execution_count": 30,
   "metadata": {},
   "outputs": [],
   "source": [
    "#applying the function\n",
    "df_final_shuffled['TitleIssue'] = df_final_shuffled['TitleIssue'].apply(lambda x : stemming(x))\n",
    "df_final_shuffled['DescriptionIssue'] = df_final_shuffled['DescriptionIssue'].apply(lambda x : stemming(x))"
   ]
  },
  {
   "cell_type": "code",
   "execution_count": 31,
   "metadata": {},
   "outputs": [
    {
     "data": {
      "text/plain": [
       "['i', 'me', 'my', 'myself', 'we', 'our', 'ours', 'ourselves', 'you', \"you're\"]"
      ]
     },
     "execution_count": 31,
     "metadata": {},
     "output_type": "execute_result"
    }
   ],
   "source": [
    "#importing nlp library\n",
    "import nltk\n",
    "\n",
    "stopwords = nltk.corpus.stopwords.words('english')\n",
    "stopwords[0:10]\n",
    "['i', 'me', 'my', 'myself', 'we', 'our', 'ours', 'ourselves', 'you', \"you're\"]"
   ]
  },
  {
   "cell_type": "code",
   "execution_count": 32,
   "metadata": {},
   "outputs": [],
   "source": [
    "#defining the function to remove stopwords from tokenized text\n",
    "def remove_stopwords(text):\n",
    "    output= [i for i in text if i not in stopwords]\n",
    "    return output"
   ]
  },
  {
   "cell_type": "code",
   "execution_count": 33,
   "metadata": {},
   "outputs": [],
   "source": [
    "#applying the function\n",
    "df_final_shuffled['TitleIssue'] = df_final_shuffled['TitleIssue'].apply(lambda x : remove_stopwords(x))\n",
    "df_final_shuffled['DescriptionIssue'] = df_final_shuffled['DescriptionIssue'].apply(lambda x : remove_stopwords(x))"
   ]
  },
  {
   "cell_type": "code",
   "execution_count": 34,
   "metadata": {},
   "outputs": [],
   "source": [
    "def convert_to_lowercase(text_string):\n",
    "    return str(text_string).lower()"
   ]
  },
  {
   "cell_type": "code",
   "execution_count": 35,
   "metadata": {},
   "outputs": [],
   "source": [
    "#applying the function\n",
    "df_final_shuffled['TitleIssue'] = df_final_shuffled['TitleIssue'].apply(convert_to_lowercase)\n",
    "df_final_shuffled['DescriptionIssue'] = df_final_shuffled['DescriptionIssue'].apply(convert_to_lowercase)"
   ]
  },
  {
   "cell_type": "markdown",
   "metadata": {},
   "source": [
    "CLASSIFICATION"
   ]
  },
  {
   "cell_type": "code",
   "execution_count": 36,
   "metadata": {},
   "outputs": [],
   "source": [
    "from sklearn.feature_extraction.text import TfidfVectorizer\n",
    "from sklearn.model_selection import train_test_split\n",
    "from sklearn.linear_model import LogisticRegression\n",
    "from sklearn import svm\n",
    "from sklearn.naive_bayes import MultinomialNB\n",
    "from sklearn.metrics import accuracy_score"
   ]
  },
  {
   "cell_type": "code",
   "execution_count": 37,
   "metadata": {},
   "outputs": [],
   "source": [
    "from sklearn.feature_extraction.text import TfidfVectorizer\n",
    "issuetitle_tf= TfidfVectorizer(min_df=5, stop_words='english')"
   ]
  },
  {
   "cell_type": "code",
   "execution_count": 38,
   "metadata": {},
   "outputs": [],
   "source": [
    "issuedes_tf= TfidfVectorizer(min_df=5, stop_words='english')"
   ]
  },
  {
   "cell_type": "code",
   "execution_count": 39,
   "metadata": {},
   "outputs": [],
   "source": [
    "tokenized_text_features31 = list(issuetitle_tf.fit_transform(df_final_shuffled['TitleIssue']).toarray())"
   ]
  },
  {
   "cell_type": "code",
   "execution_count": 40,
   "metadata": {},
   "outputs": [],
   "source": [
    "tokenized_text_features32 = list(issuedes_tf.fit_transform(df_final_shuffled['DescriptionIssue']).toarray())"
   ]
  },
  {
   "cell_type": "code",
   "execution_count": 41,
   "metadata": {},
   "outputs": [
    {
     "name": "stdout",
     "output_type": "stream",
     "text": [
      "['support' 'add' '39' 'use' 'error' 'work' 'test' 'issu' 'updat' 'remov'\n",
      " 'net' 'gener' 'chang' 'file' 'method' 'doe' 'request' 'option' 'make'\n",
      " 'code' 'new' 'fail' 'set' 'version' 'crash' 'type' 'allow' 'creat'\n",
      " 'build' 'instal' 'page' 'project' 'featur' 'configur' 'document'\n",
      " 'implement' 'packag' 'fix' 'run' 'window' 'valid' 'default' 'properti'\n",
      " 'log' 'valu' 'paramet' 'load' 'list' 'api' 'core']\n"
     ]
    },
    {
     "name": "stderr",
     "output_type": "stream",
     "text": [
      "C:\\Users\\jaish\\anaconda3\\lib\\site-packages\\sklearn\\utils\\deprecation.py:87: FutureWarning: Function get_feature_names is deprecated; get_feature_names is deprecated in 1.0 and will be removed in 1.2. Please use get_feature_names_out instead.\n",
      "  warnings.warn(msg, category=FutureWarning)\n"
     ]
    }
   ],
   "source": [
    "# Get top 50 terms with highest tf-idf score (Issue Title)\n",
    "\n",
    "\n",
    "tfidf_title = issuetitle_tf.fit_transform(df_final_shuffled['TitleIssue'])\n",
    "importance = np.argsort(np.asarray(tfidf_title.sum(axis=0)).ravel())[::-1]\n",
    "tfidf_feature_names = np.array(issuetitle_tf.get_feature_names())\n",
    "print(tfidf_feature_names[importance[:50]])\n"
   ]
  },
  {
   "cell_type": "code",
   "execution_count": 42,
   "metadata": {},
   "outputs": [
    {
     "name": "stdout",
     "output_type": "stream",
     "text": [
      "['descript' 'provid' 'thi' 'use' 'gt' 'lt' 'http' 'com' 'test' 'version'\n",
      " 'new' 'issu' 'code' 'work' 'file' 'need' 'like' 'add' 'set' 'chang' 'net'\n",
      " 'error' 'doe' 'ani' 'public' 'type' 'method' 'microsoft' 'current'\n",
      " 'string' 'onli' 'valu' 'support' 'run' 'make' 'user' 'ha' 'project'\n",
      " 'class' 'id' 'tri' 'wa' 'creat' 'object' 'option' 'thank' 'log' 'return'\n",
      " 'build' 'updat']\n"
     ]
    }
   ],
   "source": [
    "# Get top 50 terms with highest tf-idf score (Issue Description)\n",
    "\n",
    "\n",
    "tfidf_des = issuedes_tf.fit_transform(df_final_shuffled['DescriptionIssue'])\n",
    "importance = np.argsort(np.asarray(tfidf_des.sum(axis=0)).ravel())[::-1]\n",
    "tfidf_feature_names = np.array(issuedes_tf.get_feature_names())\n",
    "print(tfidf_feature_names[importance[:50]])"
   ]
  },
  {
   "cell_type": "code",
   "execution_count": 44,
   "metadata": {},
   "outputs": [],
   "source": [
    "y = df_final_shuffled['positive'].to_list()\n",
    "z = df_final_shuffled['negative'].to_list()\n",
    "n = df_final_shuffled['compound'].to_list()"
   ]
  },
  {
   "cell_type": "code",
   "execution_count": 45,
   "metadata": {},
   "outputs": [],
   "source": [
    " # for postive sentiment \n",
    "\n",
    "features_X = []\n",
    "for i,j in enumerate(tokenized_text_features31):\n",
    "  temp1 = np.append(tokenized_text_features31[i],tokenized_text_features32[i])\n",
    "  temp2 = np.append(y[i],temp1)\n",
    "  features_X.append(temp2)\n",
    "features_X = np.array(features_X)"
   ]
  },
  {
   "cell_type": "code",
   "execution_count": 47,
   "metadata": {},
   "outputs": [],
   "source": [
    "# for postive and negative feature\n",
    "\n",
    "#features_X = []\n",
    "#for i,j in enumerate(tokenized_text_features31):\n",
    "  #temp1 = np.append(tokenized_text_features31[i],tokenized_text_features32[i])\n",
    "  #temp2 = np.append(y[i],temp1)\n",
    "  #temp3 = np.append(z[i],temp2)\n",
    "  #features_X.append(temp3)\n",
    "#features_X = np.array(features_X)"
   ]
  },
  {
   "cell_type": "code",
   "execution_count": 48,
   "metadata": {},
   "outputs": [],
   "source": [
    "# for only negative sentiment \n",
    "\n",
    "#features_X = []\n",
    "#for i,j in enumerate(tokenized_text_features31):\n",
    "  #temp1 = np.append(tokenized_text_features31[i],tokenized_text_features32[i])\n",
    "  #temp2 = np.append(z[i],temp1)\n",
    "  #features_X.append(temp2)\n",
    "#features_X = np.array(features_X)"
   ]
  },
  {
   "cell_type": "code",
   "execution_count": 49,
   "metadata": {},
   "outputs": [],
   "source": [
    "from sklearn.model_selection import train_test_split\n",
    "X_train_31, X_test_31, Y_train_31, Y_test_31 = train_test_split(features_X, df_final_shuffled['issue_number'].values, test_size=0.5, random_state = 400)"
   ]
  },
  {
   "cell_type": "code",
   "execution_count": 50,
   "metadata": {},
   "outputs": [
    {
     "name": "stdout",
     "output_type": "stream",
     "text": [
      "Naive Bayes -  0.774526678141136\n"
     ]
    }
   ],
   "source": [
    "mn = MultinomialNB()\n",
    "y_pred_31 = mn.fit(X_train_31, Y_train_31).predict(X_test_31)\n",
    "print(\"Naive Bayes - \", accuracy_score(Y_test_31, y_pred_31))"
   ]
  },
  {
   "cell_type": "code",
   "execution_count": 51,
   "metadata": {},
   "outputs": [
    {
     "name": "stdout",
     "output_type": "stream",
     "text": [
      "accuracy 77.45%\n",
      "              precision    recall  f1-score   support\n",
      "\n",
      "           0       0.80      0.39      0.53       929\n",
      "           1       0.77      0.95      0.85      1976\n",
      "\n",
      "    accuracy                           0.77      2905\n",
      "   macro avg       0.79      0.67      0.69      2905\n",
      "weighted avg       0.78      0.77      0.75      2905\n",
      "\n",
      "[[ 365  564]\n",
      " [  91 1885]]\n"
     ]
    }
   ],
   "source": [
    "print('accuracy %.2f' % (accuracy_score(y_pred_31, Y_test_31)*100) + '%')\n",
    "print(classification_report(Y_test_31, y_pred_31))\n",
    "mn = confusion_matrix(Y_test_31, y_pred_31)\n",
    "print(confusion_matrix(Y_test_31, y_pred_31))\n",
    "#sn.heatmap(mn, annot=True)"
   ]
  },
  {
   "cell_type": "code",
   "execution_count": 52,
   "metadata": {},
   "outputs": [
    {
     "name": "stdout",
     "output_type": "stream",
     "text": [
      "Logistic Regression -  0.7693631669535284\n"
     ]
    }
   ],
   "source": [
    "lr = LogisticRegression()\n",
    "y_pred_32 = lr.fit(X_train_31, Y_train_31).predict(X_test_31)\n",
    "print(\"Logistic Regression - \", accuracy_score(Y_test_31, y_pred_32))"
   ]
  },
  {
   "cell_type": "code",
   "execution_count": 53,
   "metadata": {},
   "outputs": [
    {
     "name": "stdout",
     "output_type": "stream",
     "text": [
      "accuracy 76.94%\n",
      "              precision    recall  f1-score   support\n",
      "\n",
      "           0       0.78      0.39      0.52       929\n",
      "           1       0.77      0.95      0.85      1976\n",
      "\n",
      "    accuracy                           0.77      2905\n",
      "   macro avg       0.77      0.67      0.68      2905\n",
      "weighted avg       0.77      0.77      0.74      2905\n",
      "\n",
      "[[ 364  565]\n",
      " [ 105 1871]]\n"
     ]
    }
   ],
   "source": [
    "print('accuracy %.2f' % (accuracy_score(y_pred_32, Y_test_31)*100) + '%')\n",
    "print(classification_report(Y_test_31, y_pred_32))\n",
    "lr = confusion_matrix(Y_test_31, y_pred_32)\n",
    "print(confusion_matrix(Y_test_31, y_pred_32))"
   ]
  },
  {
   "cell_type": "code",
   "execution_count": 54,
   "metadata": {},
   "outputs": [],
   "source": [
    "from sklearn.tree import DecisionTreeClassifier"
   ]
  },
  {
   "cell_type": "code",
   "execution_count": 55,
   "metadata": {},
   "outputs": [
    {
     "name": "stdout",
     "output_type": "stream",
     "text": [
      "J48 -  0.7118760757314975\n"
     ]
    }
   ],
   "source": [
    "j48 = DecisionTreeClassifier(criterion=\"entropy\", max_depth=3, random_state = 400)\n",
    "y_pred_33 = j48.fit(X_train_31, Y_train_31).predict(X_test_31)\n",
    "print(\"J48 - \", accuracy_score(Y_test_31, y_pred_33))"
   ]
  },
  {
   "cell_type": "code",
   "execution_count": 56,
   "metadata": {},
   "outputs": [
    {
     "name": "stdout",
     "output_type": "stream",
     "text": [
      "accuracy 71.19%\n",
      "              precision    recall  f1-score   support\n",
      "\n",
      "           0       0.96      0.10      0.19       929\n",
      "           1       0.70      1.00      0.82      1976\n",
      "\n",
      "    accuracy                           0.71      2905\n",
      "   macro avg       0.83      0.55      0.51      2905\n",
      "weighted avg       0.79      0.71      0.62      2905\n",
      "\n",
      "[[  96  833]\n",
      " [   4 1972]]\n"
     ]
    }
   ],
   "source": [
    "print('accuracy %.2f' % (accuracy_score(y_pred_33, Y_test_31)*100) + '%')\n",
    "print(classification_report(Y_test_31, y_pred_33))\n",
    "j48 = confusion_matrix(Y_test_31, y_pred_33)\n",
    "print(confusion_matrix(Y_test_31, y_pred_33))\n"
   ]
  },
  {
   "cell_type": "code",
   "execution_count": 57,
   "metadata": {},
   "outputs": [
    {
     "name": "stdout",
     "output_type": "stream",
     "text": [
      "Random Forest -  0.7562822719449226\n"
     ]
    }
   ],
   "source": [
    "rf = RandomForestClassifier()\n",
    "y_pred_34 = rf.fit(X_train_31, Y_train_31).predict(X_test_31)\n",
    "print(\"Random Forest - \", accuracy_score(Y_test_31, y_pred_34))"
   ]
  },
  {
   "cell_type": "code",
   "execution_count": 58,
   "metadata": {},
   "outputs": [
    {
     "name": "stdout",
     "output_type": "stream",
     "text": [
      "accuracy 75.63%\n",
      "              precision    recall  f1-score   support\n",
      "\n",
      "           0       0.77      0.34      0.47       929\n",
      "           1       0.75      0.95      0.84      1976\n",
      "\n",
      "    accuracy                           0.76      2905\n",
      "   macro avg       0.76      0.65      0.66      2905\n",
      "weighted avg       0.76      0.76      0.72      2905\n",
      "\n",
      "[[ 315  614]\n",
      " [  94 1882]]\n"
     ]
    }
   ],
   "source": [
    "print('accuracy %.2f' % (accuracy_score(y_pred_34, Y_test_31)*100) + '%')\n",
    "print(classification_report(Y_test_31, y_pred_34))\n",
    "rf = confusion_matrix(Y_test_31, y_pred_34)\n",
    "print(confusion_matrix(Y_test_31, y_pred_34))\n"
   ]
  },
  {
   "cell_type": "code",
   "execution_count": null,
   "metadata": {},
   "outputs": [],
   "source": []
  },
  {
   "cell_type": "markdown",
   "metadata": {},
   "source": [
    "10 fold cross validation"
   ]
  },
  {
   "cell_type": "code",
   "execution_count": 59,
   "metadata": {},
   "outputs": [
    {
     "name": "stdout",
     "output_type": "stream",
     "text": [
      "[0.767642   0.77624785 0.77969019 0.76247849 0.77108434 0.77796902\n",
      " 0.79690189 0.78141136 0.79173838 0.81067126]\n",
      "Accuracy: 0.782 (0.014)\n"
     ]
    }
   ],
   "source": [
    "\n",
    "from numpy import mean\n",
    "from numpy import std\n",
    "from sklearn.datasets import make_classification\n",
    "from sklearn.model_selection import KFold\n",
    "from sklearn.model_selection import cross_val_score\n",
    "from sklearn.linear_model import LogisticRegression\n",
    "\n",
    "# 10 Fold Cross Validation for Naive Bayes Algorithm\n",
    "\n",
    "# prepare the cross-validation procedure\n",
    "cv = KFold(n_splits=10, random_state=1, shuffle=True)\n",
    "# create model\n",
    "model = MultinomialNB()\n",
    "# evaluate model\n",
    "scores = cross_val_score(model, features_X, df_final_shuffled['issue_number'].values, scoring='accuracy', cv=cv, n_jobs=-1)\n",
    "print(scores)\n",
    "# report performance\n",
    "print('Accuracy: %.3f (%.3f)' % (mean(scores), std(scores)))"
   ]
  },
  {
   "cell_type": "code",
   "execution_count": 60,
   "metadata": {},
   "outputs": [
    {
     "name": "stdout",
     "output_type": "stream",
     "text": [
      "[0.76075731 0.75903614 0.76419966 0.77452668 0.76419966 0.75903614\n",
      " 0.79690189 0.75731497 0.77108434 0.78657487]\n",
      "Accuracy: 0.769 (0.013)\n"
     ]
    }
   ],
   "source": [
    "# 10 Fold Cross Validation for Logistic Regression\n",
    "\n",
    "# prepare the cross-validation procedure\n",
    "cv = KFold(n_splits=10, random_state=1, shuffle=True)\n",
    "# create model\n",
    "model2 = LogisticRegression()\n",
    "# evaluate model\n",
    "scores = cross_val_score(model2, features_X, df_final_shuffled['issue_number'].values, scoring='accuracy', cv=cv, n_jobs=-1)\n",
    "print(scores)\n",
    "# report performance\n",
    "print('Accuracy: %.3f (%.3f)' % (mean(scores), std(scores)))"
   ]
  },
  {
   "cell_type": "code",
   "execution_count": 61,
   "metadata": {},
   "outputs": [
    {
     "name": "stdout",
     "output_type": "stream",
     "text": [
      "[0.69535284 0.7091222  0.69535284 0.72289157 0.68158348 0.70395869\n",
      " 0.74010327 0.70567986 0.70567986 0.74010327]\n",
      "Accuracy: 0.710 (0.018)\n"
     ]
    }
   ],
   "source": [
    "# 10 Fold Cross Validation for J48\n",
    "\n",
    "# prepare the cross-validation procedure\n",
    "cv = KFold(n_splits=10, random_state=1, shuffle=True)\n",
    "# create model\n",
    "model3 = DecisionTreeClassifier(criterion=\"entropy\", max_depth=3, random_state = 400)\n",
    "# evaluate model\n",
    "scores = cross_val_score(model3, features_X, df_final_shuffled['issue_number'].values, scoring='accuracy', cv=cv, n_jobs=-1)\n",
    "print(scores)\n",
    "# report performance\n",
    "print('Accuracy: %.3f (%.3f)' % (mean(scores), std(scores)))"
   ]
  },
  {
   "cell_type": "code",
   "execution_count": 62,
   "metadata": {},
   "outputs": [
    {
     "name": "stdout",
     "output_type": "stream",
     "text": [
      "[0.7383821  0.74526678 0.75387263 0.74870912 0.74182444 0.73666093\n",
      " 0.78829604 0.75903614 0.74698795 0.77624785]\n",
      "Accuracy: 0.754 (0.016)\n"
     ]
    }
   ],
   "source": [
    "# 10 Fold Cross Validation for Random Forest Classifier\n",
    "\n",
    "# prepare the cross-validation procedure\n",
    "cv = KFold(n_splits=10, random_state=1, shuffle=True)\n",
    "# create model\n",
    "model4 = RandomForestClassifier()\n",
    "# evaluate model\n",
    "scores = cross_val_score(model4, features_X, df_final_shuffled['issue_number'].values, scoring='accuracy', cv=cv, n_jobs=-1)\n",
    "print(scores)\n",
    "# report performance\n",
    "print('Accuracy: %.3f (%.3f)' % (mean(scores), std(scores)))"
   ]
  },
  {
   "cell_type": "code",
   "execution_count": null,
   "metadata": {},
   "outputs": [],
   "source": []
  },
  {
   "cell_type": "code",
   "execution_count": null,
   "metadata": {},
   "outputs": [],
   "source": []
  },
  {
   "cell_type": "code",
   "execution_count": null,
   "metadata": {},
   "outputs": [],
   "source": []
  },
  {
   "cell_type": "code",
   "execution_count": null,
   "metadata": {},
   "outputs": [],
   "source": []
  },
  {
   "cell_type": "code",
   "execution_count": null,
   "metadata": {},
   "outputs": [],
   "source": []
  },
  {
   "cell_type": "code",
   "execution_count": null,
   "metadata": {},
   "outputs": [],
   "source": []
  },
  {
   "cell_type": "code",
   "execution_count": null,
   "metadata": {},
   "outputs": [],
   "source": []
  },
  {
   "cell_type": "code",
   "execution_count": null,
   "metadata": {},
   "outputs": [],
   "source": []
  }
 ],
 "metadata": {
  "interpreter": {
   "hash": "9973e90c9564d826b9bec6803b81500d71c4a33660571bcc7922df70a2483179"
  },
  "kernelspec": {
   "display_name": "Python 3.9.7 ('base')",
   "language": "python",
   "name": "python3"
  },
  "language_info": {
   "codemirror_mode": {
    "name": "ipython",
    "version": 3
   },
   "file_extension": ".py",
   "mimetype": "text/x-python",
   "name": "python",
   "nbconvert_exporter": "python",
   "pygments_lexer": "ipython3",
   "version": "3.9.7"
  },
  "orig_nbformat": 4
 },
 "nbformat": 4,
 "nbformat_minor": 2
}
